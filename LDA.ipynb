{
  "nbformat": 4,
  "nbformat_minor": 0,
  "metadata": {
    "colab": {
      "name": "LDA.ipynb",
      "version": "0.3.2",
      "provenance": [],
      "collapsed_sections": [],
      "include_colab_link": true
    },
    "kernelspec": {
      "name": "python2",
      "display_name": "Python 2"
    }
  },
  "cells": [
    {
      "cell_type": "markdown",
      "metadata": {
        "id": "view-in-github",
        "colab_type": "text"
      },
      "source": [
        "<a href=\"https://colab.research.google.com/github/thunguyen177/lda_pca/blob/master/LDA.ipynb\" target=\"_parent\"><img src=\"https://colab.research.google.com/assets/colab-badge.svg\" alt=\"Open In Colab\"/></a>"
      ]
    },
    {
      "metadata": {
        "id": "BRil9JdCgNjG",
        "colab_type": "text"
      },
      "cell_type": "markdown",
      "source": [
        "Let $A$ be the matrix that contains the eigenvectors of $W^{-1}B$ in the descending order of the corresponding eigenvalues. Let\n",
        "\n",
        "$Y=XA$ \n",
        "\n",
        "then the $(i,j)$-position of $Y$ is equal to $X_{i.}A_{j.}$, which is the $j^{th}$ discriminant for observation $X_{i.}$\n",
        "\n",
        "$Y=\\begin{pmatrix}Y_1\\\\Y_2\\\\\\vdots\\\\Y_s\\end{pmatrix}$ has  mean $\\mu_{iY}$ under population $\\pi_k$\n",
        "\n",
        "We allocate observation $x$ to $\\pi_k$ if \n",
        "\n",
        "$(y-\\mu_{kY})'(y-\\mu_{kY})\\le (y-\\mu_{iY})'(y-\\mu_{iY}) \\forall i\\neq k$\n"
      ]
    },
    {
      "metadata": {
        "colab_type": "text",
        "id": "QUVR2yZhjHxh"
      },
      "cell_type": "markdown",
      "source": [
        "# Fisher discriminant analysis:\n",
        "\\begin{align*}\n",
        "B &= \\sum_{i=1}^gn_i(\\bar{x}_i-\\bar{x})(\\bar{x}_i-\\bar{x})'\\\\\n",
        "W &=  \\sum_{i=1}^g(n_i-1)S_i\n",
        "\\end{align*}\n",
        "\n",
        "Let $\\hat{\\lambda}_1,...,\\hat{\\lambda}_s$ be the increasing nonzero eigenvalues of $W^{-1}B$ and $\\hat{a}_1,...,\\hat{a}_s$ be their eigenvectors, respectively.\n",
        "\n",
        "Let $r$ be the number of nonzero eigenvalues of $W^{-1}B$ .\n",
        "Then, $x\\rightarrow \\pi_k$ if $s_k=\\sum_{j=1}^r[a'_j(x-\\bar{x}_k)]^2\\le (s_i=)\\sum_{j=1}^r[a'_j(x-\\bar{x}_i)]^2\\forall i\\neq k$ \n"
      ]
    },
    {
      "metadata": {
        "id": "Jwe7q_XgkAou",
        "colab_type": "code",
        "colab": {}
      },
      "cell_type": "code",
      "source": [
        "import numpy as np\n",
        "\n",
        "def find_mean_vectors(X, y):\n",
        "    labels = np.unique(y)\n",
        "    num_classes = labels.shape[0]\n",
        "    mean_vectors = []\n",
        "    for l in labels:\n",
        "        mean_vectors.append(np.mean(X[y==l], axis=0))\n",
        "    return mean_vectors\n",
        "\n",
        "def within(X, y):\n",
        "    num_features = X.shape[1]\n",
        "    labels = np.unique(y)\n",
        "    num_classes = labels.shape[0]\n",
        "    mean_vectors = find_mean_vectors(X, y)\n",
        "    W = np.zeros((num_features, num_features))\n",
        "    for label, mv in zip(labels, mean_vectors):\n",
        "        class_within = np.zeros((num_features, num_features))                 \n",
        "        for row in X[y == label]:\n",
        "            class_within += np.matmul(np.matrix(row-mv).T,np.matrix(row-mv))\n",
        "        W += class_within \n",
        "    W                           \n",
        "    return W\n",
        "\n",
        "def between(X, y):\n",
        "    overall_mean = np.mean(X, axis=0)\n",
        "    num_features = X.shape[1]\n",
        "    mean_vectors = find_mean_vectors(X, y)    \n",
        "    B = np.zeros((num_features, num_features))\n",
        "    for i, mean_vec in enumerate(mean_vectors):  \n",
        "        n = (y==i).sum()\n",
        "        #X[y==i+1,:].shape[0]\n",
        "        B += n * np.matmul(np.matrix(mean_vec - overall_mean).T,np.matrix(mean_vec - overall_mean))\n",
        "    return B\n"
      ],
      "execution_count": 0,
      "outputs": []
    },
    {
      "metadata": {
        "id": "IAfLZ9dmx9T-",
        "colab_type": "code",
        "colab": {}
      },
      "cell_type": "code",
      "source": [
        "def predict(X,y,Xtest,ytest):\n",
        "    W, B = within(X, y), between(X, y)\n",
        "    eig_vals, eig_vecs = np.linalg.eig(np.linalg.inv(W).dot(B))\n",
        "    ids = np.argsort(eig_vals)[::-1]\n",
        "    A = eig_vecs[ids,] \n",
        "    r = (eig_vals != 0).sum()\n",
        "    labels = np.unique(y)\n",
        "    mean_vectors = find_mean_vectors(X, y)\n",
        "    g =labels.size\n",
        "    A = eig_vecs[ids[range(r)]]  \n",
        "    predicted_labels = []\n",
        "    for idx in range(Xtest.shape[0]):\n",
        "      x = Xtest[idx,:]\n",
        "      p = []\n",
        "      s = []\n",
        "      for i in range(g):\n",
        "        pr = []\n",
        "        for j in range(r):\n",
        "          pr = np.append([pr],[(A[j].dot(x-mean_vectors[i]))**2])\n",
        "        s = np.append([s],[pr.sum()])\n",
        "      predicted_labels = np.append([predicted_labels],[labels[np.argmin(s)]])  \n",
        "    num_correct = (predicted_labels == ytest).sum()\n",
        "    correct_rate = num_correct/float(ytest.size)\n",
        "    \n",
        "    return predicted_labels, correct_rate"
      ],
      "execution_count": 0,
      "outputs": []
    },
    {
      "metadata": {
        "id": "6Xg0ZJnCpV1x",
        "colab_type": "code",
        "outputId": "7c3b7997-cb3d-4c5f-b47a-0175b3536b77",
        "colab": {
          "base_uri": "https://localhost:8080/",
          "height": 343
        }
      },
      "cell_type": "code",
      "source": [
        "mean1 = [0, 0]\n",
        "mean2 = [3,4]\n",
        "mean3 = [5,5]\n",
        "cov = [[1, 0], [0, 2]]  # diagonal covariance\n",
        "def generate_data(n):\n",
        "  x1 = np.random.multivariate_normal(mean1, cov, n)\n",
        "  x2 = np.random.multivariate_normal(mean2, cov, n)\n",
        "  x3 = np.random.multivariate_normal(mean3, cov, n)\n",
        "  X = np.concatenate((x1, x2,x3), axis=0)\n",
        "  y = np.concatenate([np.repeat(1,n),np.repeat(2,n),np.repeat(3,n)])\n",
        "  return X,y\n",
        "\n",
        "X,y = generate_data(30)\n",
        "Xtest,ytest = generate_data(20)\n",
        "\n",
        "predicted_labels, correct_rate = predict(X,y,Xtest,ytest)\n",
        "predicted_labels"
      ],
      "execution_count": 71,
      "outputs": [
        {
          "output_type": "error",
          "ename": "AttributeError",
          "evalue": "ignored",
          "traceback": [
            "\u001b[0;31m\u001b[0m",
            "\u001b[0;31mAttributeError\u001b[0mTraceback (most recent call last)",
            "\u001b[0;32m<ipython-input-71-7a5bcc734cb0>\u001b[0m in \u001b[0;36m<module>\u001b[0;34m()\u001b[0m\n\u001b[1;32m     14\u001b[0m \u001b[0mXtest\u001b[0m\u001b[0;34m,\u001b[0m\u001b[0mytest\u001b[0m \u001b[0;34m=\u001b[0m \u001b[0mgenerate_data\u001b[0m\u001b[0;34m(\u001b[0m\u001b[0;36m20\u001b[0m\u001b[0;34m)\u001b[0m\u001b[0;34m\u001b[0m\u001b[0m\n\u001b[1;32m     15\u001b[0m \u001b[0;34m\u001b[0m\u001b[0m\n\u001b[0;32m---> 16\u001b[0;31m \u001b[0mpredicted_labels\u001b[0m\u001b[0;34m,\u001b[0m \u001b[0mcorrect_rate\u001b[0m \u001b[0;34m=\u001b[0m \u001b[0mpredict\u001b[0m\u001b[0;34m(\u001b[0m\u001b[0mX\u001b[0m\u001b[0;34m,\u001b[0m\u001b[0my\u001b[0m\u001b[0;34m,\u001b[0m\u001b[0mXtest\u001b[0m\u001b[0;34m,\u001b[0m\u001b[0mytest\u001b[0m\u001b[0;34m)\u001b[0m\u001b[0;34m\u001b[0m\u001b[0m\n\u001b[0m\u001b[1;32m     17\u001b[0m \u001b[0mpredicted_labels\u001b[0m\u001b[0;34m\u001b[0m\u001b[0m\n",
            "\u001b[0;32m<ipython-input-70-4f3c5062f127>\u001b[0m in \u001b[0;36mpredict\u001b[0;34m(X, y, Xtest, ytest)\u001b[0m\n\u001b[1;32m     11\u001b[0m     \u001b[0mpredicted_labels\u001b[0m \u001b[0;34m=\u001b[0m \u001b[0;34m[\u001b[0m\u001b[0;34m]\u001b[0m\u001b[0;34m\u001b[0m\u001b[0m\n\u001b[1;32m     12\u001b[0m     \u001b[0;32mfor\u001b[0m \u001b[0midx\u001b[0m \u001b[0;32min\u001b[0m \u001b[0mrange\u001b[0m\u001b[0;34m(\u001b[0m\u001b[0mXtest\u001b[0m\u001b[0;34m.\u001b[0m\u001b[0mshape\u001b[0m\u001b[0;34m[\u001b[0m\u001b[0;36m0\u001b[0m\u001b[0;34m]\u001b[0m\u001b[0;34m)\u001b[0m\u001b[0;34m:\u001b[0m\u001b[0;34m\u001b[0m\u001b[0m\n\u001b[0;32m---> 13\u001b[0;31m       \u001b[0mx\u001b[0m \u001b[0;34m=\u001b[0m \u001b[0mXtest\u001b[0m\u001b[0;34m.\u001b[0m\u001b[0miloc\u001b[0m\u001b[0;34m[\u001b[0m\u001b[0midx\u001b[0m\u001b[0;34m,\u001b[0m\u001b[0;34m:\u001b[0m\u001b[0;34m]\u001b[0m\u001b[0;34m\u001b[0m\u001b[0m\n\u001b[0m\u001b[1;32m     14\u001b[0m       \u001b[0mp\u001b[0m \u001b[0;34m=\u001b[0m \u001b[0;34m[\u001b[0m\u001b[0;34m]\u001b[0m\u001b[0;34m\u001b[0m\u001b[0m\n\u001b[1;32m     15\u001b[0m       \u001b[0ms\u001b[0m \u001b[0;34m=\u001b[0m \u001b[0;34m[\u001b[0m\u001b[0;34m]\u001b[0m\u001b[0;34m\u001b[0m\u001b[0m\n",
            "\u001b[0;31mAttributeError\u001b[0m: 'numpy.ndarray' object has no attribute 'iloc'"
          ]
        }
      ]
    },
    {
      "metadata": {
        "id": "LWJw7qFD_QG4",
        "colab_type": "code",
        "outputId": "35f00a54-eafa-44f1-d1a9-4769911d8bfa",
        "colab": {
          "base_uri": "https://localhost:8080/",
          "height": 34
        }
      },
      "cell_type": "code",
      "source": [
        "correct_rate"
      ],
      "execution_count": 52,
      "outputs": [
        {
          "output_type": "execute_result",
          "data": {
            "text/plain": [
              "0.9166666666666666"
            ]
          },
          "metadata": {
            "tags": []
          },
          "execution_count": 52
        }
      ]
    },
    {
      "metadata": {
        "id": "N-7rO6VfwjFY",
        "colab_type": "code",
        "colab": {
          "base_uri": "https://localhost:8080/",
          "height": 195
        },
        "outputId": "32b65cd2-ecc5-41b2-ae69-f52582f16b03"
      },
      "cell_type": "code",
      "source": [
        "# An example on real data with the \"Iris\" dataset:\n",
        "\n",
        "import pandas as pd\n",
        "\n",
        "data = pd.io.parsers.read_csv(\n",
        "    filepath_or_buffer='https://archive.ics.uci.edu/ml/machine-learning-databases/iris/iris.data',\n",
        "    header=None,\n",
        "    sep=',',\n",
        "    )\n",
        "data.head()"
      ],
      "execution_count": 72,
      "outputs": [
        {
          "output_type": "execute_result",
          "data": {
            "text/html": [
              "<div>\n",
              "<style scoped>\n",
              "    .dataframe tbody tr th:only-of-type {\n",
              "        vertical-align: middle;\n",
              "    }\n",
              "\n",
              "    .dataframe tbody tr th {\n",
              "        vertical-align: top;\n",
              "    }\n",
              "\n",
              "    .dataframe thead th {\n",
              "        text-align: right;\n",
              "    }\n",
              "</style>\n",
              "<table border=\"1\" class=\"dataframe\">\n",
              "  <thead>\n",
              "    <tr style=\"text-align: right;\">\n",
              "      <th></th>\n",
              "      <th>0</th>\n",
              "      <th>1</th>\n",
              "      <th>2</th>\n",
              "      <th>3</th>\n",
              "      <th>4</th>\n",
              "    </tr>\n",
              "  </thead>\n",
              "  <tbody>\n",
              "    <tr>\n",
              "      <th>0</th>\n",
              "      <td>5.1</td>\n",
              "      <td>3.5</td>\n",
              "      <td>1.4</td>\n",
              "      <td>0.2</td>\n",
              "      <td>Iris-setosa</td>\n",
              "    </tr>\n",
              "    <tr>\n",
              "      <th>1</th>\n",
              "      <td>4.9</td>\n",
              "      <td>3.0</td>\n",
              "      <td>1.4</td>\n",
              "      <td>0.2</td>\n",
              "      <td>Iris-setosa</td>\n",
              "    </tr>\n",
              "    <tr>\n",
              "      <th>2</th>\n",
              "      <td>4.7</td>\n",
              "      <td>3.2</td>\n",
              "      <td>1.3</td>\n",
              "      <td>0.2</td>\n",
              "      <td>Iris-setosa</td>\n",
              "    </tr>\n",
              "    <tr>\n",
              "      <th>3</th>\n",
              "      <td>4.6</td>\n",
              "      <td>3.1</td>\n",
              "      <td>1.5</td>\n",
              "      <td>0.2</td>\n",
              "      <td>Iris-setosa</td>\n",
              "    </tr>\n",
              "    <tr>\n",
              "      <th>4</th>\n",
              "      <td>5.0</td>\n",
              "      <td>3.6</td>\n",
              "      <td>1.4</td>\n",
              "      <td>0.2</td>\n",
              "      <td>Iris-setosa</td>\n",
              "    </tr>\n",
              "  </tbody>\n",
              "</table>\n",
              "</div>"
            ],
            "text/plain": [
              "     0    1    2    3            4\n",
              "0  5.1  3.5  1.4  0.2  Iris-setosa\n",
              "1  4.9  3.0  1.4  0.2  Iris-setosa\n",
              "2  4.7  3.2  1.3  0.2  Iris-setosa\n",
              "3  4.6  3.1  1.5  0.2  Iris-setosa\n",
              "4  5.0  3.6  1.4  0.2  Iris-setosa"
            ]
          },
          "metadata": {
            "tags": []
          },
          "execution_count": 72
        }
      ]
    },
    {
      "metadata": {
        "id": "e5h_ZN4jCTnK",
        "colab_type": "text"
      },
      "cell_type": "markdown",
      "source": [
        "For the predict function to be able to handle dataframe, we need to modify ``Xtest[idx,:]`` into ``Xtest.iloc[idx,:]``"
      ]
    },
    {
      "metadata": {
        "id": "axPgCScwCCNg",
        "colab_type": "code",
        "colab": {}
      },
      "cell_type": "code",
      "source": [
        "def predict(X,y,Xtest,ytest):\n",
        "    W, B = within(X, y), between(X, y)\n",
        "    eig_vals, eig_vecs = np.linalg.eig(np.linalg.inv(W).dot(B))\n",
        "    ids = np.argsort(eig_vals)[::-1]\n",
        "    A = eig_vecs[ids,] \n",
        "    r = (eig_vals != 0).sum()\n",
        "    labels = np.unique(y)\n",
        "    mean_vectors = find_mean_vectors(X, y)\n",
        "    g =labels.size\n",
        "    A = eig_vecs[ids[range(r)]]  \n",
        "    predicted_labels = []\n",
        "    for idx in range(Xtest.shape[0]):\n",
        "      x = Xtest.iloc[idx,:]   \n",
        "      p = []\n",
        "      s = []\n",
        "      for i in range(g):\n",
        "        pr = []\n",
        "        for j in range(r):\n",
        "          pr = np.append([pr],[(A[j].dot(x-mean_vectors[i]))**2])\n",
        "        s = np.append([s],[pr.sum()])\n",
        "      predicted_labels = np.append([predicted_labels],[labels[np.argmin(s)]])  \n",
        "    num_correct = (predicted_labels == ytest).sum()\n",
        "    correct_rate = num_correct/float(ytest.size)\n",
        "    \n",
        "    return predicted_labels, correct_rate"
      ],
      "execution_count": 0,
      "outputs": []
    },
    {
      "metadata": {
        "id": "Wlm5f_S_0ma0",
        "colab_type": "code",
        "colab": {}
      },
      "cell_type": "code",
      "source": [
        "X, y= data.iloc[:,0:3], data.iloc[:,4]\n",
        "# To encode the label using Label Encoder\n",
        "from sklearn.preprocessing import LabelEncoder\n",
        "\n",
        "enc = LabelEncoder()\n",
        "label_encoder = enc.fit(y)\n",
        "y = label_encoder.transform(y) \n",
        "\n",
        "label_dict = {0: 'Setosa', 1: 'Versicolor', 2:'Virginica'}"
      ],
      "execution_count": 0,
      "outputs": []
    },
    {
      "metadata": {
        "id": "5DsxELR4xKCZ",
        "colab_type": "code",
        "colab": {
          "base_uri": "https://localhost:8080/",
          "height": 70
        },
        "outputId": "30cc7b49-5b3c-4fcf-df47-d6ceb43f7a55"
      },
      "cell_type": "code",
      "source": [
        "# split train set and test set randomly\n",
        "from sklearn.model_selection import train_test_split\n",
        "Xtrain, Xtest, ytrain, ytest = train_test_split(X, y, test_size=0.33, random_state=42)\n",
        "predicted_labels, correct_rate = predict(Xtrain,ytrain,Xtest,ytest)\n",
        "predicted_labels"
      ],
      "execution_count": 79,
      "outputs": [
        {
          "output_type": "execute_result",
          "data": {
            "text/plain": [
              "array([1., 0., 2., 1., 2., 0., 1., 2., 1., 1., 2., 0., 0., 0., 0., 2., 2.,\n",
              "       1., 1., 2., 0., 2., 0., 2., 2., 2., 2., 2., 0., 0., 0., 0., 1., 0.,\n",
              "       0., 1., 2., 0., 0., 0., 1., 2., 2., 0., 0., 1., 2., 2., 1., 2.])"
            ]
          },
          "metadata": {
            "tags": []
          },
          "execution_count": 79
        }
      ]
    },
    {
      "metadata": {
        "id": "SeqzTT8izfw6",
        "colab_type": "code",
        "colab": {
          "base_uri": "https://localhost:8080/",
          "height": 34
        },
        "outputId": "85229dd6-3ff9-4274-fd26-a77fcc88f932"
      },
      "cell_type": "code",
      "source": [
        "correct_rate"
      ],
      "execution_count": 81,
      "outputs": [
        {
          "output_type": "execute_result",
          "data": {
            "text/plain": [
              "0.86"
            ]
          },
          "metadata": {
            "tags": []
          },
          "execution_count": 81
        }
      ]
    },
    {
      "metadata": {
        "id": "P06GGmdPBP-u",
        "colab_type": "code",
        "colab": {
          "base_uri": "https://localhost:8080/",
          "height": 34
        },
        "outputId": "ba6bc19c-46c4-4724-84f6-4b4ac1410367"
      },
      "cell_type": "code",
      "source": [
        "correct_rate"
      ],
      "execution_count": 69,
      "outputs": [
        {
          "output_type": "execute_result",
          "data": {
            "text/plain": [
              "0.88"
            ]
          },
          "metadata": {
            "tags": []
          },
          "execution_count": 69
        }
      ]
    }
  ]
}